{
 "cells": [
  {
   "cell_type": "markdown",
   "id": "56674876",
   "metadata": {},
   "source": [
    "# **Exploratory Data Analysis**\n",
    "\n",
    "In this notebook, we will explore the nature of our data, first by using the skin cancer dataset from kaggle."
   ]
  },
  {
   "cell_type": "code",
   "execution_count": 1,
   "id": "8efa263d",
   "metadata": {},
   "outputs": [],
   "source": [
    "import kaggle"
   ]
  },
  {
   "cell_type": "code",
   "execution_count": 2,
   "id": "3559cfa1",
   "metadata": {},
   "outputs": [],
   "source": [
    "# !kaggle datasets download -d kmader/skin-cancer-mnist-ham10000 -p ../data/raw --unzip -o -q"
   ]
  }
 ],
 "metadata": {
  "kernelspec": {
   "display_name": "medical-image-torch",
   "language": "python",
   "name": "python3"
  },
  "language_info": {
   "codemirror_mode": {
    "name": "ipython",
    "version": 3
   },
   "file_extension": ".py",
   "mimetype": "text/x-python",
   "name": "python",
   "nbconvert_exporter": "python",
   "pygments_lexer": "ipython3",
   "version": "3.13.2"
  }
 },
 "nbformat": 4,
 "nbformat_minor": 5
}
